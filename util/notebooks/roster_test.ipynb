{
 "cells": [
  {
   "cell_type": "code",
   "execution_count": 1,
   "metadata": {},
   "outputs": [],
   "source": [
    "import requests\n",
    "from bs4 import BeautifulSoup"
   ]
  },
  {
   "cell_type": "code",
   "execution_count": 2,
   "metadata": {},
   "outputs": [],
   "source": [
    "URL = \"https://drexeldragons.com/sports/womens-basketball/roster\""
   ]
  },
  {
   "cell_type": "code",
   "execution_count": 3,
   "metadata": {},
   "outputs": [],
   "source": [
    "r = requests.get(URL)\n",
    "soup = BeautifulSoup(r.text)"
   ]
  },
  {
   "cell_type": "code",
   "execution_count": 19,
   "metadata": {},
   "outputs": [],
   "source": [
    "players_table = soup.find(\"ul\", {\"class\": \"sidearm-roster-players\"})\n",
    "players = []\n",
    "for player in players_table.find_all(\"li\", {\"class\": \"sidearm-roster-player\"}):\n",
    "    img = player.find(\"img\")[\"data-src\"]\n",
    "    raw_name = player.find(\"div\", {\"class\": \"sidearm-roster-player-name\"})\n",
    "    name = raw_name.text.strip()[2:].strip()\n",
    "    first_name, last_name = name.split(\" \", maxsplit=1)\n",
    "    \n",
    "    number = player.find(\"span\", {\"class\": \"sidearm-roster-player-jersey-number\"}).text.strip()\n",
    "    position = player.find(\"span\", {\"class\": \"sidearm-roster-player-position-long-short hide-on-small-down\"}).text.strip()\n",
    "    hometown = player.find(\"span\", {\"class\": \"sidearm-roster-player-hometown\"}).text.strip()\n",
    "    height = player.find(\"span\", {\"class\": \"sidearm-roster-player-height\"}).text.strip()\n",
    "    high_school = player.find(\"span\", {\"class\": \"sidearm-roster-player-highschool\"}).text.strip()"
   ]
  },
  {
   "cell_type": "code",
   "execution_count": null,
   "metadata": {},
   "outputs": [],
   "source": []
  }
 ],
 "metadata": {
  "interpreter": {
   "hash": "70b8c8f9e6e52b55cec43935c4ce7bbc2b770f4f3a5e85ee97db274a08041610"
  },
  "kernelspec": {
   "display_name": "Python 3.9.7 ('env': venv)",
   "language": "python",
   "name": "python3"
  },
  "language_info": {
   "codemirror_mode": {
    "name": "ipython",
    "version": 3
   },
   "file_extension": ".py",
   "mimetype": "text/x-python",
   "name": "python",
   "nbconvert_exporter": "python",
   "pygments_lexer": "ipython3",
   "version": "3.9.7"
  },
  "orig_nbformat": 4
 },
 "nbformat": 4,
 "nbformat_minor": 2
}
