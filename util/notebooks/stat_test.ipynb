{
 "cells": [
  {
   "cell_type": "code",
   "execution_count": 62,
   "metadata": {},
   "outputs": [],
   "source": [
    "import requests\n",
    "import json\n",
    "from bs4 import BeautifulSoup"
   ]
  },
  {
   "cell_type": "code",
   "execution_count": 2,
   "metadata": {},
   "outputs": [],
   "source": [
    "URL = \"https://drexeldragons.com/sports/womens-basketball/stats/2021-22\""
   ]
  },
  {
   "cell_type": "code",
   "execution_count": 3,
   "metadata": {},
   "outputs": [],
   "source": [
    "r = requests.get(URL)\n",
    "soup = BeautifulSoup(r.text, features=\"html.parser\")"
   ]
  },
  {
   "cell_type": "code",
   "execution_count": 75,
   "metadata": {},
   "outputs": [],
   "source": [
    "def float_or_original(value: str):\n",
    "    try:\n",
    "        return float(value)\n",
    "    except ValueError:\n",
    "        return value"
   ]
  },
  {
   "cell_type": "code",
   "execution_count": 85,
   "metadata": {},
   "outputs": [],
   "source": [
    "team_stats = []\n",
    "table = soup.find(\"table\", {\"class\": \"sidearm-table\"})\n",
    "for row in table.find_all(\"tr\")[1:]:\n",
    "    children = [x for x in list(row.children) if x != \"\\n\"]\n",
    "    if len(children) == 3:\n",
    "        stat = [x for x in children[0].text.split(\"\\n\") if x != \"\"]\n",
    "        if \"Margin\" in stat:\n",
    "            continue\n",
    "        value = float_or_original(children[1].text)\n",
    "        if len(stat) == 2:\n",
    "            team_stats.append({\n",
    "                \"full\": stat[0],\n",
    "                \"short\": stat[1],\n",
    "                \"value\": value\n",
    "            })\n",
    "        else:\n",
    "            team_stats.append({\n",
    "                \"full\": stat[0],\n",
    "                \"short\": \"\",\n",
    "                \"value\": value\n",
    "            })"
   ]
  },
  {
   "cell_type": "code",
   "execution_count": 82,
   "metadata": {},
   "outputs": [],
   "source": [
    "MISSING_NAMES = {\n",
    "    \"RPG\": \"Rebounds\",\n",
    "    \"APG\": \"Assists\",\n",
    "    \"TO/G\": \"Turnovers\",\n",
    "    \"STL/G\": \"Steals\",\n",
    "    \"BLK/G\": \"Blocks\",\n",
    "    \"AVG\": \"Attendance\"\n",
    "}"
   ]
  },
  {
   "cell_type": "code",
   "execution_count": 86,
   "metadata": {},
   "outputs": [],
   "source": [
    "for idx, stat in enumerate(team_stats):\n",
    "    if stat[\"full\"] == \"Total\":\n",
    "        next_stat = team_stats[idx + 1]\n",
    "        short_name = next_stat[\"short\"]\n",
    "        found = MISSING_NAMES[short_name]\n",
    "        \n",
    "        stat[\"full\"] = found\n",
    "        next_stat[\"full\"] = f\"{found} Per Game\""
   ]
  },
  {
   "cell_type": "code",
   "execution_count": 42,
   "metadata": {},
   "outputs": [],
   "source": [
    "ind_table = soup.find_all(\"table\", {\"class\": \"sidearm-table\"})[1]\n",
    "headers = [s.text for s in ind_table.find(\"tr\").find_all(\"th\")][:-1]"
   ]
  },
  {
   "cell_type": "code",
   "execution_count": 66,
   "metadata": {},
   "outputs": [],
   "source": [
    "player_stats = []\n",
    "for row in ind_table.find_all(\"tr\")[2:-2]:\n",
    "    name = row.find(\"a\").text\n",
    "    num = row.find_all(\"td\")[0].text.lstrip(\"0\")\n",
    "    stats = {}\n",
    "    for stat in row.find_all(\"td\")[1:-1]:\n",
    "        stat_name = stat[\"data-label\"]\n",
    "        stats[stat_name] = float(stat.text)\n",
    "    player_stats.append({\n",
    "        \"name\": name,\n",
    "        \"num\": num,\n",
    "        \"stats\": stats\n",
    "    })"
   ]
  },
  {
   "cell_type": "code",
   "execution_count": 88,
   "metadata": {},
   "outputs": [],
   "source": [
    "output = {\n",
    "    \"team\": team_stats,\n",
    "    \"individual\": player_stats\n",
    "}"
   ]
  },
  {
   "cell_type": "code",
   "execution_count": null,
   "metadata": {},
   "outputs": [],
   "source": []
  }
 ],
 "metadata": {
  "interpreter": {
   "hash": "70b8c8f9e6e52b55cec43935c4ce7bbc2b770f4f3a5e85ee97db274a08041610"
  },
  "kernelspec": {
   "display_name": "Python 3.9.7 ('env': venv)",
   "language": "python",
   "name": "python3"
  },
  "language_info": {
   "codemirror_mode": {
    "name": "ipython",
    "version": 3
   },
   "file_extension": ".py",
   "mimetype": "text/x-python",
   "name": "python",
   "nbconvert_exporter": "python",
   "pygments_lexer": "ipython3",
   "version": "3.9.7"
  },
  "orig_nbformat": 4
 },
 "nbformat": 4,
 "nbformat_minor": 2
}
