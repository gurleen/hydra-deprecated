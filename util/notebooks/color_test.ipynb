{
 "cells": [
  {
   "cell_type": "code",
   "execution_count": 95,
   "metadata": {},
   "outputs": [],
   "source": [
    "import time\n",
    "import requests\n",
    "from bs4 import BeautifulSoup"
   ]
  },
  {
   "cell_type": "code",
   "execution_count": 96,
   "metadata": {},
   "outputs": [],
   "source": [
    "URL = \"https://usteamcolors.com/colonial-athletic-association/\""
   ]
  },
  {
   "cell_type": "code",
   "execution_count": 97,
   "metadata": {},
   "outputs": [],
   "source": [
    "r = requests.get(URL)\n",
    "soup = BeautifulSoup(r.text)"
   ]
  },
  {
   "cell_type": "code",
   "execution_count": 98,
   "metadata": {},
   "outputs": [
    {
     "data": {
      "text/plain": [
       "'Colonial Athletic Association'"
      ]
     },
     "execution_count": 98,
     "metadata": {},
     "output_type": "execute_result"
    }
   ],
   "source": [
    "title = soup.find(\"div\", {\"class\": \"us-teams\"}).find(\"h1\")\n",
    "conf_name = title.text.rstrip(\" Colors\")\n",
    "conf_name"
   ]
  },
  {
   "cell_type": "code",
   "execution_count": 99,
   "metadata": {},
   "outputs": [],
   "source": [
    "teams = soup.find_all(\"a\", {\"class\": \"card-image\"})\n",
    "urls = [x[\"href\"] for x in teams]"
   ]
  },
  {
   "cell_type": "code",
   "execution_count": 100,
   "metadata": {},
   "outputs": [
    {
     "name": "stdout",
     "output_type": "stream",
     "text": [
      "https://usteamcolors.com/college-of-charleston-colors/\n",
      "https://usteamcolors.com/university-of-delaware-colors/\n",
      "https://usteamcolors.com/drexel-university-colors/\n",
      "https://usteamcolors.com/elon-university-colors/\n",
      "https://usteamcolors.com/hofstra-university-colors/\n",
      "https://usteamcolors.com/james-madison-university-colors/\n",
      "https://usteamcolors.com/unc-wilmington-colors/\n",
      "https://usteamcolors.com/northeastern-university-colors/\n",
      "https://usteamcolors.com/towson-university-colors/\n",
      "https://usteamcolors.com/college-of-william-and-mary-colors/\n"
     ]
    }
   ],
   "source": [
    "pages = []\n",
    "headers = {'User-Agent': 'Mozilla/5.0 (Macintosh; Intel Mac OS X 10_10_1) AppleWebKit/537.36 (KHTML, like Gecko) Chrome/39.0.2171.95 Safari/537.36'}\n",
    "for team_url in urls:\n",
    "    print(team_url)\n",
    "    r = requests.get(team_url, headers=headers)\n",
    "    if r.status_code == 200:\n",
    "        tsoup = BeautifulSoup(r.text)\n",
    "        pages.append(tsoup)\n",
    "        time.sleep(2)"
   ]
  },
  {
   "cell_type": "code",
   "execution_count": 119,
   "metadata": {},
   "outputs": [
    {
     "name": "stdout",
     "output_type": "stream",
     "text": [
      "Charleston - Cougars #76232F None\n",
      "Delaware - Fightin’ Blue Hens #00539F #FFD200\n",
      "Drexel - Dragons #07294D #FFC600\n",
      "Elon - Phoenix #73000A #B59A57\n",
      "Hofstra - Pride #FDC82F #003591\n",
      "James Madison - Dukes #450084 #CBB677\n",
      "UNC Wilmington - Seahawks #006666 #003366\n",
      "Northeastern - Huskies #E50000 #000000\n",
      "Towson - Tigers #000000 #FFCC00\n",
      "William & Mary - Tribe #115740 #F0B323\n"
     ]
    }
   ],
   "source": [
    "for page in pages:\n",
    "    orig_title: str = page.find(\"h1\", {\"class\": \"title\"}).text.replace(\" Colors\", \"\")\n",
    "    school_name = orig_title.replace(\"College\", \"\").replace(\" of \", \"\").replace(\"University\", \"\").replace(\"-\", \" \").replace(\" and \", \" & \").replace(\"  \", \" \").strip()\n",
    "\n",
    "    subtitle: str = page.find(\"h2\").text.replace(\" color codes: RGB, CMYK, Pantone, Hex\", \"\")\n",
    "    team_name = subtitle.replace(orig_title, \"\").replace(school_name, \"\").replace(\" and \", \" & \").strip()\n",
    "\n",
    "    for word in school_name.split():\n",
    "        team_name = team_name.replace(f\"{word}\", \"\").strip()\n",
    "\n",
    "    container = page.find(\"div\", {\"class\": \"colors\"})\n",
    "    tables = container.find_all(\"table\")\n",
    "    primary = tables[0].find_all(\"td\")[1].text\n",
    "    if len(tables) > 1:\n",
    "        secondary = tables[1].find_all(\"td\")[1].text\n",
    "    else:\n",
    "        secondary = None\n",
    "\n",
    "    print(school_name, \"-\", team_name, primary, secondary)"
   ]
  },
  {
   "cell_type": "code",
   "execution_count": null,
   "metadata": {},
   "outputs": [],
   "source": []
  }
 ],
 "metadata": {
  "interpreter": {
   "hash": "c9da60263c9e469bc725334581c8a4d0ebab8df3aa6b2882e975b1ffbef0e66c"
  },
  "kernelspec": {
   "display_name": "Python 3.9.7 ('base')",
   "language": "python",
   "name": "python3"
  },
  "language_info": {
   "codemirror_mode": {
    "name": "ipython",
    "version": 3
   },
   "file_extension": ".py",
   "mimetype": "text/x-python",
   "name": "python",
   "nbconvert_exporter": "python",
   "pygments_lexer": "ipython3",
   "version": "3.9.10"
  },
  "orig_nbformat": 4
 },
 "nbformat": 4,
 "nbformat_minor": 2
}
